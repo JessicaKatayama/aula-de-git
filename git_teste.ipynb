{
 "cells": [
  {
   "cell_type": "code",
   "execution_count": 3,
   "metadata": {},
   "outputs": [
    {
     "name": "stdout",
     "output_type": "stream",
     "text": [
      "Oi teste1\n",
      " Oi teste2\n",
      "Oi teste1 Oi teste2\n"
     ]
    }
   ],
   "source": [
    "teste_1 = \"Oi teste1\"\n",
    "print(teste_1)\n",
    "\n",
    "teste_2 = \" Oi teste2\"\n",
    "print(teste_2)\n",
    "\n",
    "teste = teste_1 + teste_2\n",
    "print(teste)"
   ]
  },
  {
   "cell_type": "code",
   "execution_count": null,
   "metadata": {},
   "outputs": [],
   "source": []
  }
 ],
 "metadata": {
  "kernelspec": {
   "display_name": "Python 3",
   "language": "python",
   "name": "python3"
  },
  "language_info": {
   "codemirror_mode": {
    "name": "ipython",
    "version": 3
   },
   "file_extension": ".py",
   "mimetype": "text/x-python",
   "name": "python",
   "nbconvert_exporter": "python",
   "pygments_lexer": "ipython3",
   "version": "3.12.3"
  }
 },
 "nbformat": 4,
 "nbformat_minor": 2
}
